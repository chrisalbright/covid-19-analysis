{
 "cells": [
  {
   "cell_type": "code",
   "execution_count": 2,
   "metadata": {},
   "outputs": [],
   "source": [
    "import pandas as pd\n",
    "import numpy as np\n",
    "from glob import glob\n",
    "import os"
   ]
  },
  {
   "cell_type": "code",
   "execution_count": 3,
   "metadata": {},
   "outputs": [],
   "source": [
    "data_path = '../COVID-19/covid.csv'\n",
    "data_files = glob(data_path + '/*.csv')"
   ]
  },
  {
   "cell_type": "code",
   "execution_count": 4,
   "metadata": {},
   "outputs": [
    {
     "output_type": "execute_result",
     "data": {
      "text/plain": "['../COVID-19/covid.csv/part-00000-fd7e31a1-2b4e-480f-804d-89f899b4d632-c000.csv']"
     },
     "metadata": {},
     "execution_count": 4
    }
   ],
   "source": [
    "data_files"
   ]
  },
  {
   "cell_type": "code",
   "execution_count": 5,
   "metadata": {},
   "outputs": [],
   "source": [
    "dataframes = []\n",
    "for data_file in data_files:\n",
    "    frame = pd.read_csv(data_file)\n",
    "    data_file_name = os.path.basename(data_file)\n",
    "    data_file_date = os.path.splitext(data_file_name)[0]\n",
    "    frame['UpdatedDate'] = data_file_date\n",
    "    dataframes.append(frame)\n",
    "# Not sure how to do the above in a comprehension...\n",
    "# [pd.read_csv(file)['filename'] = file for file in data_files]"
   ]
  },
  {
   "cell_type": "code",
   "execution_count": 5,
   "metadata": {},
   "outputs": [],
   "source": [
    "countryMap = {\n",
    "    \"Iran (Islamic Republic of)\": \"Iran\",\n",
    "    \"occupied Palestinian territory\": \"Palestine\",\n",
    "    \"Viet Nam\": \"Vietnam\",\n",
    "    \"Korea, South\": \"South Korea\",\n",
    "    \"Republic of Korea\": \"South Korea\",\n",
    "    \"Taiwan*\": \"Taiwan\",\n",
    "    \"Taipei and environs\": \"Taiwan\",\n",
    "    \"Russian Federation\": \"Russia\",\n",
    "    \"Republic of Moldova\": \"Moldova\",\n",
    "    \"Republic of Ireland\": \"Ireland\",\n",
    "    \"Mainland China\": \"China\",\n",
    "    \"UK\": \"United Kingdom\",\n",
    "    \"US\": \"United States\",\n",
    "    \"Macao SAR\": \"Macau\",\n",
    "    \"Hong Kong SAR\": \"Hong Kong\",\n",
    "    \"Czechia\": \"Czech Republic\"\n",
    "}\n",
    "stateMap = {\n",
    "    \"AL\": \"Alabama\",\n",
    "    \"AK\": \"Alaska\",\n",
    "    \"AZ\": \"Arizona\",\n",
    "    \"AR\": \"Arkansas\",\n",
    "    \"CA\": \"California\",\n",
    "    \"CO\": \"Colorado\",\n",
    "    \"CT\": \"Connecticut\",\n",
    "    \"DE\": \"Delaware\",\n",
    "    \"FL\": \"Florida\",\n",
    "    \"GA\": \"Georgia\",\n",
    "    \"HI\": \"Hawaii\",\n",
    "    \"ID\": \"Idaho\",\n",
    "    \"IL\": \"Illinois\",\n",
    "    \"IN\": \"Indiana\",\n",
    "    \"IA\": \"Iowa\",\n",
    "    \"KS\": \"Kansas\",\n",
    "    \"KY\": \"Kentucky\",\n",
    "    \"LA\": \"Louisiana\",\n",
    "    \"ME\": \"Maine\",\n",
    "    \"MD\": \"Maryland\",\n",
    "    \"MA\": \"Massachusetts\",\n",
    "    \"MI\": \"Michigan\",\n",
    "    \"MN\": \"Minnesota\",\n",
    "    \"MS\": \"Mississippi\",\n",
    "    \"MO\": \"Missouri\",\n",
    "    \"MT\": \"Montana\",\n",
    "    \"NE\": \"Nebraska\",\n",
    "    \"NV\": \"Nevada\",\n",
    "    \"NH\": \"New Hampshire\",\n",
    "    \"NJ\": \"New Jersey\",\n",
    "    \"NM\": \"New Mexico\",\n",
    "    \"NY\": \"New York\",\n",
    "    \"NC\": \"North Carolina\",\n",
    "    \"ND\": \"North Dakota\",\n",
    "    \"OH\": \"Ohio\",\n",
    "    \"OK\": \"Oklahoma\",\n",
    "    \"OR\": \"Oregon\",\n",
    "    \"PA\": \"Pennsylvania\",\n",
    "    \"RI\": \"Rhode Island\",\n",
    "    \"SC\": \"South Carolina\",\n",
    "    \"SD\": \"South Dakota\",\n",
    "    \"TN\": \"Tennessee\",\n",
    "    \"TX\": \"Texas\",\n",
    "    \"UT\": \"Utah\",\n",
    "    \"VT\": \"Vermont\",\n",
    "    \"VA\": \"Virginia\",\n",
    "    \"WA\": \"Washington\",\n",
    "    \"WV\": \"West Virginia\",\n",
    "    \"WI\": \"Wisconsin\",\n",
    "    \"WY\": \"Wyoming\",\n",
    "    \"Unassigned Location (From Diamond Princess)\": \"Diamond Princess\",\n",
    "    \"From Diamond Princess\": \"Diamond Princess\"\n",
    "}\n",
    "def mapLookup(map):\n",
    "    return lambda name: map.get(name, name)\n",
    "columnMap = {\n",
    "    \"Country/Region\": \"Country\", \n",
    "    \"Province/State\": \"State\",\n",
    "    \"Last Update\": \"LastUpdateTimestamp\"\n",
    "}\n",
    "dropColumns = ['Latitude', 'Longitude']\n",
    "data = pd.concat(dataframes, sort=False, ignore_index=True).rename(columnMap, axis = 1).drop(dropColumns, axis=1)\n",
    "data.Country = data.Country.map(mapLookup(countryMap))"
   ]
  },
  {
   "cell_type": "code",
   "execution_count": 8,
   "metadata": {},
   "outputs": [
    {
     "output_type": "execute_result",
     "data": {
      "text/plain": "   state        country  recordDate  totalConfirmed  totalDeaths  \\\n0  Idaho  United States  2020-01-22               0            0   \n1  Idaho  United States  2020-01-23               0            0   \n2  Idaho  United States  2020-01-24               0            0   \n3  Idaho  United States  2020-01-25               0            0   \n4  Idaho  United States  2020-01-26               0            0   \n\n   totalRecovered          id  newConfirmed  newDeaths  newRecovered  \\\n0               0  1257338777             0          0             0   \n1               0  -642562726             0          0             0   \n2               0   716991175             0          0             0   \n3               0  1350807152             0          0             0   \n4               0   168882653             0          0             0   \n\n                                         UpdatedDate  \n0  part-00000-fd7e31a1-2b4e-480f-804d-89f899b4d63...  \n1  part-00000-fd7e31a1-2b4e-480f-804d-89f899b4d63...  \n2  part-00000-fd7e31a1-2b4e-480f-804d-89f899b4d63...  \n3  part-00000-fd7e31a1-2b4e-480f-804d-89f899b4d63...  \n4  part-00000-fd7e31a1-2b4e-480f-804d-89f899b4d63...  ",
      "text/html": "<div>\n<style scoped>\n    .dataframe tbody tr th:only-of-type {\n        vertical-align: middle;\n    }\n\n    .dataframe tbody tr th {\n        vertical-align: top;\n    }\n\n    .dataframe thead th {\n        text-align: right;\n    }\n</style>\n<table border=\"1\" class=\"dataframe\">\n  <thead>\n    <tr style=\"text-align: right;\">\n      <th></th>\n      <th>state</th>\n      <th>country</th>\n      <th>recordDate</th>\n      <th>totalConfirmed</th>\n      <th>totalDeaths</th>\n      <th>totalRecovered</th>\n      <th>id</th>\n      <th>newConfirmed</th>\n      <th>newDeaths</th>\n      <th>newRecovered</th>\n      <th>UpdatedDate</th>\n    </tr>\n  </thead>\n  <tbody>\n    <tr>\n      <th>0</th>\n      <td>Idaho</td>\n      <td>United States</td>\n      <td>2020-01-22</td>\n      <td>0</td>\n      <td>0</td>\n      <td>0</td>\n      <td>1257338777</td>\n      <td>0</td>\n      <td>0</td>\n      <td>0</td>\n      <td>part-00000-fd7e31a1-2b4e-480f-804d-89f899b4d63...</td>\n    </tr>\n    <tr>\n      <th>1</th>\n      <td>Idaho</td>\n      <td>United States</td>\n      <td>2020-01-23</td>\n      <td>0</td>\n      <td>0</td>\n      <td>0</td>\n      <td>-642562726</td>\n      <td>0</td>\n      <td>0</td>\n      <td>0</td>\n      <td>part-00000-fd7e31a1-2b4e-480f-804d-89f899b4d63...</td>\n    </tr>\n    <tr>\n      <th>2</th>\n      <td>Idaho</td>\n      <td>United States</td>\n      <td>2020-01-24</td>\n      <td>0</td>\n      <td>0</td>\n      <td>0</td>\n      <td>716991175</td>\n      <td>0</td>\n      <td>0</td>\n      <td>0</td>\n      <td>part-00000-fd7e31a1-2b4e-480f-804d-89f899b4d63...</td>\n    </tr>\n    <tr>\n      <th>3</th>\n      <td>Idaho</td>\n      <td>United States</td>\n      <td>2020-01-25</td>\n      <td>0</td>\n      <td>0</td>\n      <td>0</td>\n      <td>1350807152</td>\n      <td>0</td>\n      <td>0</td>\n      <td>0</td>\n      <td>part-00000-fd7e31a1-2b4e-480f-804d-89f899b4d63...</td>\n    </tr>\n    <tr>\n      <th>4</th>\n      <td>Idaho</td>\n      <td>United States</td>\n      <td>2020-01-26</td>\n      <td>0</td>\n      <td>0</td>\n      <td>0</td>\n      <td>168882653</td>\n      <td>0</td>\n      <td>0</td>\n      <td>0</td>\n      <td>part-00000-fd7e31a1-2b4e-480f-804d-89f899b4d63...</td>\n    </tr>\n  </tbody>\n</table>\n</div>"
     },
     "metadata": {},
     "execution_count": 8
    }
   ],
   "source": [
    "pd.concat(dataframes, sort=False, ignore_index=True).head()"
   ]
  },
  {
   "cell_type": "code",
   "execution_count": 5,
   "metadata": {},
   "outputs": [],
   "source": [
    "# data[['City', 'State']] = data[data['State'].str.contains(',', na = False)].State.str.split(', ', expand = True)"
   ]
  },
  {
   "cell_type": "code",
   "execution_count": null,
   "metadata": {},
   "outputs": [],
   "source": []
  },
  {
   "cell_type": "code",
   "execution_count": 6,
   "metadata": {},
   "outputs": [],
   "source": [
    "# data['City'] = ''"
   ]
  },
  {
   "cell_type": "code",
   "execution_count": 6,
   "metadata": {},
   "outputs": [],
   "source": [
    "states = data.State.str.split(',', expand=True)\n",
    "possible_city = states[0]\n",
    "possible_state = states[1]\n",
    "possible_state[~possible_state.isnull()] = possible_state[~possible_state.isnull()].map(lambda s: s.replace(\" (From Diamond Princess)\", \"\"))"
   ]
  },
  {
   "cell_type": "code",
   "execution_count": 17,
   "metadata": {},
   "outputs": [
    {
     "output_type": "error",
     "ename": "ValueError",
     "evalue": "The truth value of a Series is ambiguous. Use a.empty, a.bool(), a.item(), a.any() or a.all().",
     "traceback": [
      "\u001b[0;31m---------------------------------------------------------------------------\u001b[0m",
      "\u001b[0;31mValueError\u001b[0m                                Traceback (most recent call last)",
      "\u001b[0;32m<ipython-input-17-0810a8ee0927>\u001b[0m in \u001b[0;36m<module>\u001b[0;34m\u001b[0m\n\u001b[1;32m      5\u001b[0m         \u001b[0mdf\u001b[0m\u001b[0;34m[\u001b[0m\u001b[0;36m1\u001b[0m\u001b[0;34m]\u001b[0m\u001b[0;34m\u001b[0m\u001b[0;34m\u001b[0m\u001b[0m\n\u001b[1;32m      6\u001b[0m \u001b[0;34m\u001b[0m\u001b[0m\n\u001b[0;32m----> 7\u001b[0;31m \u001b[0mstates\u001b[0m\u001b[0;34m.\u001b[0m\u001b[0massign\u001b[0m\u001b[0;34m(\u001b[0m\u001b[0mnewState\u001b[0m \u001b[0;34m=\u001b[0m \u001b[0;32mlambda\u001b[0m \u001b[0mdf\u001b[0m\u001b[0;34m:\u001b[0m \u001b[0mpickState\u001b[0m\u001b[0;34m(\u001b[0m\u001b[0mdf\u001b[0m\u001b[0;34m)\u001b[0m\u001b[0;34m)\u001b[0m\u001b[0;34m\u001b[0m\u001b[0;34m\u001b[0m\u001b[0m\n\u001b[0m\u001b[1;32m      8\u001b[0m \u001b[0mstates\u001b[0m\u001b[0;34m\u001b[0m\u001b[0;34m\u001b[0m\u001b[0m\n",
      "\u001b[0;32m~/.pyenv/versions/anaconda3-5.3.1/lib/python3.7/site-packages/pandas/core/frame.py\u001b[0m in \u001b[0;36massign\u001b[0;34m(self, **kwargs)\u001b[0m\n\u001b[1;32m   3308\u001b[0m         \u001b[0;32mif\u001b[0m \u001b[0mPY36\u001b[0m\u001b[0;34m:\u001b[0m\u001b[0;34m\u001b[0m\u001b[0;34m\u001b[0m\u001b[0m\n\u001b[1;32m   3309\u001b[0m             \u001b[0;32mfor\u001b[0m \u001b[0mk\u001b[0m\u001b[0;34m,\u001b[0m \u001b[0mv\u001b[0m \u001b[0;32min\u001b[0m \u001b[0mkwargs\u001b[0m\u001b[0;34m.\u001b[0m\u001b[0mitems\u001b[0m\u001b[0;34m(\u001b[0m\u001b[0;34m)\u001b[0m\u001b[0;34m:\u001b[0m\u001b[0;34m\u001b[0m\u001b[0;34m\u001b[0m\u001b[0m\n\u001b[0;32m-> 3310\u001b[0;31m                 \u001b[0mdata\u001b[0m\u001b[0;34m[\u001b[0m\u001b[0mk\u001b[0m\u001b[0;34m]\u001b[0m \u001b[0;34m=\u001b[0m \u001b[0mcom\u001b[0m\u001b[0;34m.\u001b[0m\u001b[0m_apply_if_callable\u001b[0m\u001b[0;34m(\u001b[0m\u001b[0mv\u001b[0m\u001b[0;34m,\u001b[0m \u001b[0mdata\u001b[0m\u001b[0;34m)\u001b[0m\u001b[0;34m\u001b[0m\u001b[0;34m\u001b[0m\u001b[0m\n\u001b[0m\u001b[1;32m   3311\u001b[0m         \u001b[0;32melse\u001b[0m\u001b[0;34m:\u001b[0m\u001b[0;34m\u001b[0m\u001b[0;34m\u001b[0m\u001b[0m\n\u001b[1;32m   3312\u001b[0m             \u001b[0;31m# <= 3.5: do all calculations first...\u001b[0m\u001b[0;34m\u001b[0m\u001b[0;34m\u001b[0m\u001b[0;34m\u001b[0m\u001b[0m\n",
      "\u001b[0;32m~/.pyenv/versions/anaconda3-5.3.1/lib/python3.7/site-packages/pandas/core/common.py\u001b[0m in \u001b[0;36m_apply_if_callable\u001b[0;34m(maybe_callable, obj, **kwargs)\u001b[0m\n\u001b[1;32m    406\u001b[0m \u001b[0;34m\u001b[0m\u001b[0m\n\u001b[1;32m    407\u001b[0m     \u001b[0;32mif\u001b[0m \u001b[0mcallable\u001b[0m\u001b[0;34m(\u001b[0m\u001b[0mmaybe_callable\u001b[0m\u001b[0;34m)\u001b[0m\u001b[0;34m:\u001b[0m\u001b[0;34m\u001b[0m\u001b[0;34m\u001b[0m\u001b[0m\n\u001b[0;32m--> 408\u001b[0;31m         \u001b[0;32mreturn\u001b[0m \u001b[0mmaybe_callable\u001b[0m\u001b[0;34m(\u001b[0m\u001b[0mobj\u001b[0m\u001b[0;34m,\u001b[0m \u001b[0;34m**\u001b[0m\u001b[0mkwargs\u001b[0m\u001b[0;34m)\u001b[0m\u001b[0;34m\u001b[0m\u001b[0;34m\u001b[0m\u001b[0m\n\u001b[0m\u001b[1;32m    409\u001b[0m \u001b[0;34m\u001b[0m\u001b[0m\n\u001b[1;32m    410\u001b[0m     \u001b[0;32mreturn\u001b[0m \u001b[0mmaybe_callable\u001b[0m\u001b[0;34m\u001b[0m\u001b[0;34m\u001b[0m\u001b[0m\n",
      "\u001b[0;32m<ipython-input-17-0810a8ee0927>\u001b[0m in \u001b[0;36m<lambda>\u001b[0;34m(df)\u001b[0m\n\u001b[1;32m      5\u001b[0m         \u001b[0mdf\u001b[0m\u001b[0;34m[\u001b[0m\u001b[0;36m1\u001b[0m\u001b[0;34m]\u001b[0m\u001b[0;34m\u001b[0m\u001b[0;34m\u001b[0m\u001b[0m\n\u001b[1;32m      6\u001b[0m \u001b[0;34m\u001b[0m\u001b[0m\n\u001b[0;32m----> 7\u001b[0;31m \u001b[0mstates\u001b[0m\u001b[0;34m.\u001b[0m\u001b[0massign\u001b[0m\u001b[0;34m(\u001b[0m\u001b[0mnewState\u001b[0m \u001b[0;34m=\u001b[0m \u001b[0;32mlambda\u001b[0m \u001b[0mdf\u001b[0m\u001b[0;34m:\u001b[0m \u001b[0mpickState\u001b[0m\u001b[0;34m(\u001b[0m\u001b[0mdf\u001b[0m\u001b[0;34m)\u001b[0m\u001b[0;34m)\u001b[0m\u001b[0;34m\u001b[0m\u001b[0;34m\u001b[0m\u001b[0m\n\u001b[0m\u001b[1;32m      8\u001b[0m \u001b[0mstates\u001b[0m\u001b[0;34m\u001b[0m\u001b[0;34m\u001b[0m\u001b[0m\n",
      "\u001b[0;32m<ipython-input-17-0810a8ee0927>\u001b[0m in \u001b[0;36mpickState\u001b[0;34m(df)\u001b[0m\n\u001b[1;32m      1\u001b[0m \u001b[0;32mdef\u001b[0m \u001b[0mpickState\u001b[0m\u001b[0;34m(\u001b[0m\u001b[0mdf\u001b[0m\u001b[0;34m)\u001b[0m\u001b[0;34m:\u001b[0m\u001b[0;34m\u001b[0m\u001b[0;34m\u001b[0m\u001b[0m\n\u001b[0;32m----> 2\u001b[0;31m     \u001b[0;32mif\u001b[0m \u001b[0mdf\u001b[0m\u001b[0;34m[\u001b[0m\u001b[0;36m1\u001b[0m\u001b[0;34m]\u001b[0m\u001b[0;34m.\u001b[0m\u001b[0misnull\u001b[0m\u001b[0;34m(\u001b[0m\u001b[0;34m)\u001b[0m\u001b[0;34m:\u001b[0m\u001b[0;34m\u001b[0m\u001b[0;34m\u001b[0m\u001b[0m\n\u001b[0m\u001b[1;32m      3\u001b[0m         \u001b[0mdf\u001b[0m\u001b[0;34m[\u001b[0m\u001b[0;36m0\u001b[0m\u001b[0;34m]\u001b[0m\u001b[0;34m\u001b[0m\u001b[0;34m\u001b[0m\u001b[0m\n\u001b[1;32m      4\u001b[0m     \u001b[0;32melse\u001b[0m\u001b[0;34m:\u001b[0m\u001b[0;34m\u001b[0m\u001b[0;34m\u001b[0m\u001b[0m\n\u001b[1;32m      5\u001b[0m         \u001b[0mdf\u001b[0m\u001b[0;34m[\u001b[0m\u001b[0;36m1\u001b[0m\u001b[0;34m]\u001b[0m\u001b[0;34m\u001b[0m\u001b[0;34m\u001b[0m\u001b[0m\n",
      "\u001b[0;32m~/.pyenv/versions/anaconda3-5.3.1/lib/python3.7/site-packages/pandas/core/generic.py\u001b[0m in \u001b[0;36m__nonzero__\u001b[0;34m(self)\u001b[0m\n\u001b[1;32m   1574\u001b[0m         raise ValueError(\"The truth value of a {0} is ambiguous. \"\n\u001b[1;32m   1575\u001b[0m                          \u001b[0;34m\"Use a.empty, a.bool(), a.item(), a.any() or a.all().\"\u001b[0m\u001b[0;34m\u001b[0m\u001b[0;34m\u001b[0m\u001b[0m\n\u001b[0;32m-> 1576\u001b[0;31m                          .format(self.__class__.__name__))\n\u001b[0m\u001b[1;32m   1577\u001b[0m \u001b[0;34m\u001b[0m\u001b[0m\n\u001b[1;32m   1578\u001b[0m     \u001b[0m__bool__\u001b[0m \u001b[0;34m=\u001b[0m \u001b[0m__nonzero__\u001b[0m\u001b[0;34m\u001b[0m\u001b[0;34m\u001b[0m\u001b[0m\n",
      "\u001b[0;31mValueError\u001b[0m: The truth value of a Series is ambiguous. Use a.empty, a.bool(), a.item(), a.any() or a.all()."
     ]
    }
   ],
   "source": [
    "def pickState(df):\n",
    "    if df[1].isnull():\n",
    "        df[0]\n",
    "    else:\n",
    "        df[1]\n",
    "\n",
    "states.assign(newState =pickState)\n",
    "states"
   ]
  },
  {
   "cell_type": "code",
   "execution_count": 11,
   "metadata": {},
   "outputs": [
    {
     "output_type": "execute_result",
     "data": {
      "text/plain": "       State      Country  LastUpdateTimestamp  Confirmed  Deaths  Recovered  \\\n0      Hubei        China  2020-02-26T14:13:10    65187.0  2615.0    20969.0   \n1  Guangdong        China  2020-02-26T10:33:02     1347.0     7.0      851.0   \n2      Henan        China  2020-02-26T10:33:02     1271.0    19.0     1033.0   \n3        NaN  South Korea  2020-02-26T11:03:11     1261.0    12.0       22.0   \n4   Zhejiang        China  2020-02-26T10:33:02     1205.0     1.0      867.0   \n\n  UpdatedDate  \n0  02-26-2020  \n1  02-26-2020  \n2  02-26-2020  \n3  02-26-2020  \n4  02-26-2020  ",
      "text/html": "<div>\n<style scoped>\n    .dataframe tbody tr th:only-of-type {\n        vertical-align: middle;\n    }\n\n    .dataframe tbody tr th {\n        vertical-align: top;\n    }\n\n    .dataframe thead th {\n        text-align: right;\n    }\n</style>\n<table border=\"1\" class=\"dataframe\">\n  <thead>\n    <tr style=\"text-align: right;\">\n      <th></th>\n      <th>State</th>\n      <th>Country</th>\n      <th>LastUpdateTimestamp</th>\n      <th>Confirmed</th>\n      <th>Deaths</th>\n      <th>Recovered</th>\n      <th>UpdatedDate</th>\n    </tr>\n  </thead>\n  <tbody>\n    <tr>\n      <th>0</th>\n      <td>Hubei</td>\n      <td>China</td>\n      <td>2020-02-26T14:13:10</td>\n      <td>65187.0</td>\n      <td>2615.0</td>\n      <td>20969.0</td>\n      <td>02-26-2020</td>\n    </tr>\n    <tr>\n      <th>1</th>\n      <td>Guangdong</td>\n      <td>China</td>\n      <td>2020-02-26T10:33:02</td>\n      <td>1347.0</td>\n      <td>7.0</td>\n      <td>851.0</td>\n      <td>02-26-2020</td>\n    </tr>\n    <tr>\n      <th>2</th>\n      <td>Henan</td>\n      <td>China</td>\n      <td>2020-02-26T10:33:02</td>\n      <td>1271.0</td>\n      <td>19.0</td>\n      <td>1033.0</td>\n      <td>02-26-2020</td>\n    </tr>\n    <tr>\n      <th>3</th>\n      <td>NaN</td>\n      <td>South Korea</td>\n      <td>2020-02-26T11:03:11</td>\n      <td>1261.0</td>\n      <td>12.0</td>\n      <td>22.0</td>\n      <td>02-26-2020</td>\n    </tr>\n    <tr>\n      <th>4</th>\n      <td>Zhejiang</td>\n      <td>China</td>\n      <td>2020-02-26T10:33:02</td>\n      <td>1205.0</td>\n      <td>1.0</td>\n      <td>867.0</td>\n      <td>02-26-2020</td>\n    </tr>\n  </tbody>\n</table>\n</div>"
     },
     "metadata": {},
     "execution_count": 11
    }
   ],
   "source": [
    "foo = data.copy()\n",
    "foo.head()"
   ]
  },
  {
   "cell_type": "code",
   "execution_count": 12,
   "metadata": {},
   "outputs": [],
   "source": [
    "emptyStates = foo[foo.State.isnull()].State \n",
    "emptyStateContries = foo[foo.State.isnull()].Country"
   ]
  },
  {
   "cell_type": "code",
   "execution_count": null,
   "metadata": {},
   "outputs": [],
   "source": [
    "foo['NewState'].update()"
   ]
  },
  {
   "cell_type": "code",
   "execution_count": 61,
   "metadata": {},
   "outputs": [],
   "source": [
    "foo[foo.State.isnull()].State.update(emptyStateContries)"
   ]
  },
  {
   "cell_type": "code",
   "execution_count": 78,
   "metadata": {},
   "outputs": [],
   "source": [
    "foo = foo.drop(['State'], axis=1)"
   ]
  },
  {
   "cell_type": "code",
   "execution_count": 79,
   "metadata": {},
   "outputs": [
    {
     "output_type": "error",
     "ename": "AttributeError",
     "evalue": "'DataFrame' object has no attribute 'State'",
     "traceback": [
      "\u001b[0;31m---------------------------------------------------------------------------\u001b[0m",
      "\u001b[0;31mAttributeError\u001b[0m                            Traceback (most recent call last)",
      "\u001b[0;32m<ipython-input-79-fd2834712036>\u001b[0m in \u001b[0;36m<module>\u001b[0;34m\u001b[0m\n\u001b[0;32m----> 1\u001b[0;31m \u001b[0mfoo\u001b[0m\u001b[0;34m[\u001b[0m\u001b[0mfoo\u001b[0m\u001b[0;34m.\u001b[0m\u001b[0mState\u001b[0m\u001b[0;34m.\u001b[0m\u001b[0misnull\u001b[0m\u001b[0;34m(\u001b[0m\u001b[0;34m)\u001b[0m\u001b[0;34m]\u001b[0m\u001b[0;34m[\u001b[0m\u001b[0;34m'NewState'\u001b[0m\u001b[0;34m]\u001b[0m \u001b[0;34m=\u001b[0m \u001b[0memptyStateContries\u001b[0m\u001b[0;34m\u001b[0m\u001b[0;34m\u001b[0m\u001b[0m\n\u001b[0m",
      "\u001b[0;32m~/.pyenv/versions/anaconda3-5.3.1/lib/python3.7/site-packages/pandas/core/generic.py\u001b[0m in \u001b[0;36m__getattr__\u001b[0;34m(self, name)\u001b[0m\n\u001b[1;32m   4374\u001b[0m             \u001b[0;32mif\u001b[0m \u001b[0mself\u001b[0m\u001b[0;34m.\u001b[0m\u001b[0m_info_axis\u001b[0m\u001b[0;34m.\u001b[0m\u001b[0m_can_hold_identifiers_and_holds_name\u001b[0m\u001b[0;34m(\u001b[0m\u001b[0mname\u001b[0m\u001b[0;34m)\u001b[0m\u001b[0;34m:\u001b[0m\u001b[0;34m\u001b[0m\u001b[0;34m\u001b[0m\u001b[0m\n\u001b[1;32m   4375\u001b[0m                 \u001b[0;32mreturn\u001b[0m \u001b[0mself\u001b[0m\u001b[0;34m[\u001b[0m\u001b[0mname\u001b[0m\u001b[0;34m]\u001b[0m\u001b[0;34m\u001b[0m\u001b[0;34m\u001b[0m\u001b[0m\n\u001b[0;32m-> 4376\u001b[0;31m             \u001b[0;32mreturn\u001b[0m \u001b[0mobject\u001b[0m\u001b[0;34m.\u001b[0m\u001b[0m__getattribute__\u001b[0m\u001b[0;34m(\u001b[0m\u001b[0mself\u001b[0m\u001b[0;34m,\u001b[0m \u001b[0mname\u001b[0m\u001b[0;34m)\u001b[0m\u001b[0;34m\u001b[0m\u001b[0;34m\u001b[0m\u001b[0m\n\u001b[0m\u001b[1;32m   4377\u001b[0m \u001b[0;34m\u001b[0m\u001b[0m\n\u001b[1;32m   4378\u001b[0m     \u001b[0;32mdef\u001b[0m \u001b[0m__setattr__\u001b[0m\u001b[0;34m(\u001b[0m\u001b[0mself\u001b[0m\u001b[0;34m,\u001b[0m \u001b[0mname\u001b[0m\u001b[0;34m,\u001b[0m \u001b[0mvalue\u001b[0m\u001b[0;34m)\u001b[0m\u001b[0;34m:\u001b[0m\u001b[0;34m\u001b[0m\u001b[0;34m\u001b[0m\u001b[0m\n",
      "\u001b[0;31mAttributeError\u001b[0m: 'DataFrame' object has no attribute 'State'"
     ]
    }
   ],
   "source": [
    "\n",
    "foo[foo.State.isnull()]['NewState'] = emptyStateContries"
   ]
  },
  {
   "cell_type": "code",
   "execution_count": 77,
   "metadata": {},
   "outputs": [
    {
     "output_type": "execute_result",
     "data": {
      "text/plain": "                                     State        Country  \\\n0                                    Hubei          China   \n1                                Guangdong          China   \n2                                    Henan          China   \n3                                      NaN    South Korea   \n4                                 Zhejiang          China   \n5                                    Hunan          China   \n6                                    Anhui          China   \n7                                  Jiangxi          China   \n8                                 Shandong          China   \n9             Diamond Princess cruise ship         Others   \n10                                 Jiangsu          China   \n11                               Chongqing          China   \n12                                 Sichuan          China   \n13                            Heilongjiang          China   \n14                                     NaN          Italy   \n15                                 Beijing          China   \n16                                Shanghai          China   \n17                                   Hebei          China   \n18                                  Fujian          China   \n19                                 Guangxi          China   \n20                                 Shaanxi          China   \n21                                     NaN          Japan   \n22                                  Yunnan          China   \n23                                  Hainan          China   \n24                                 Guizhou          China   \n25                                     NaN           Iran   \n26                                 Tianjin          China   \n27                                  Shanxi          China   \n28                                Liaoning          China   \n29                                   Jilin          China   \n...                                    ...            ...   \n7283                   Plymouth County, MA  United States   \n7284                       Polk County, GA  United States   \n7285                     Ramsey County, MN  United States   \n7286                  Riverside County, CA  United States   \n7287                       San Antonio, TX  United States   \n7288                 Santa Rosa County, FL  United States   \n7289                          Sarasota, FL  United States   \n7290                     Shelby County, TN  United States   \n7291                     Sonoma County, CA  United States   \n7292                    Spokane County, WA  United States   \n7293                  St. Louis County, MO  United States   \n7294                    Suffolk County, NY  United States   \n7295                      Tulsa County, OK  United States   \n7296                     Ulster County, NY  United States   \n7297                          Umatilla, OR  United States   \n7298               Unassigned Location, VT  United States   \n7299                  Unknown Location, MA  United States   \n7300                    Volusia County, FL  United States   \n7301                       Wake County, NC  United States   \n7302                      Wayne County, PA  United States   \n7303                 Williamson County, TN  United States   \n7304                       Yolo County, CA  United States   \n7305                                   NaN        Ukraine   \n7306                                   NaN   Vatican City   \n7307                 From Diamond Princess      Australia   \n7308                    Northern Territory      Australia   \n7309  Lackland, TX (From Diamond Princess)  United States   \n7310                 Montgomery County, TX  United States   \n7311     Omaha, NE (From Diamond Princess)  United States   \n7312    Travis, CA (From Diamond Princess)  United States   \n\n      LastUpdateTimestamp  Confirmed  Deaths  Recovered UpdatedDate  \n0     2020-02-26T14:13:10    65187.0  2615.0    20969.0  02-26-2020  \n1     2020-02-26T10:33:02     1347.0     7.0      851.0  02-26-2020  \n2     2020-02-26T10:33:02     1271.0    19.0     1033.0  02-26-2020  \n3     2020-02-26T11:03:11     1261.0    12.0       22.0  02-26-2020  \n4     2020-02-26T10:33:02     1205.0     1.0      867.0  02-26-2020  \n5     2020-02-26T10:13:11     1016.0     4.0      783.0  02-26-2020  \n6     2020-02-26T10:13:11      989.0     6.0      744.0  02-26-2020  \n7     2020-02-26T01:13:04      934.0     1.0      719.0  02-26-2020  \n8     2020-02-26T12:43:02      756.0     6.0      377.0  02-26-2020  \n9     2020-02-26T19:33:02      705.0     4.0       10.0  02-26-2020  \n10    2020-02-26T10:13:11      631.0     0.0      478.0  02-26-2020  \n11    2020-02-26T23:43:02      576.0     6.0      384.0  02-26-2020  \n12    2020-02-26T10:13:11      531.0     3.0      307.0  02-26-2020  \n13    2020-02-26T10:33:02      480.0    12.0      249.0  02-26-2020  \n14    2020-02-26T23:43:03      453.0    12.0        3.0  02-26-2020  \n15    2020-02-26T00:53:02      400.0     4.0      235.0  02-26-2020  \n16    2020-02-26T23:53:01      337.0     3.0      272.0  02-26-2020  \n17    2020-02-26T10:33:02      312.0     6.0      261.0  02-26-2020  \n18    2020-02-26T10:33:02      294.0     1.0      218.0  02-26-2020  \n19    2020-02-26T14:13:10      252.0     2.0      147.0  02-26-2020  \n20    2020-02-26T14:13:10      245.0     1.0      192.0  02-26-2020  \n21    2020-02-26T23:43:03      189.0     2.0       22.0  02-26-2020  \n22    2020-02-26T05:13:16      174.0     2.0      144.0  02-26-2020  \n23    2020-02-26T12:43:02      168.0     5.0      129.0  02-26-2020  \n24    2020-02-25T08:03:07      146.0     2.0      104.0  02-26-2020  \n25    2020-02-26T23:43:03      139.0    19.0       49.0  02-26-2020  \n26    2020-02-26T12:43:02      135.0     3.0       96.0  02-26-2020  \n27    2020-02-26T14:13:10      133.0     0.0      104.0  02-26-2020  \n28    2020-02-26T00:13:05      121.0     1.0       88.0  02-26-2020  \n29    2020-02-26T14:13:10       93.0     1.0       65.0  02-26-2020  \n...                   ...        ...     ...        ...         ...  \n7283  2020-03-07T03:53:03        1.0     0.0        0.0  03-08-2020  \n7284  2020-03-08T04:13:22        1.0     0.0        0.0  03-08-2020  \n7285  2020-03-06T23:23:03        1.0     0.0        0.0  03-08-2020  \n7286  2020-03-08T10:33:03        1.0     0.0        0.0  03-08-2020  \n7287  2020-02-13T18:53:02        1.0     0.0        0.0  03-08-2020  \n7288  2020-03-08T15:33:04        1.0     1.0        0.0  03-08-2020  \n7289  2020-03-02T03:23:06        1.0     0.0        0.0  03-08-2020  \n7290  2020-03-08T16:13:36        1.0     0.0        0.0  03-08-2020  \n7291  2020-03-02T20:53:02        1.0     0.0        0.0  03-08-2020  \n7292  2020-03-08T21:53:04        1.0     0.0        0.0  03-08-2020  \n7293  2020-03-08T11:23:08        1.0     0.0        0.0  03-08-2020  \n7294  2020-03-08T16:03:05        1.0     0.0        0.0  03-08-2020  \n7295  2020-03-07T04:43:02        1.0     0.0        0.0  03-08-2020  \n7296  2020-03-08T16:23:07        1.0     0.0        0.0  03-08-2020  \n7297  2020-03-02T20:23:16        1.0     0.0        0.0  03-08-2020  \n7298  2020-03-08T06:23:05        1.0     0.0        0.0  03-08-2020  \n7299  2020-03-08T21:23:03        1.0     0.0        0.0  03-08-2020  \n7300  2020-03-08T03:03:08        1.0     0.0        0.0  03-08-2020  \n7301  2020-03-03T20:53:02        1.0     0.0        0.0  03-08-2020  \n7302  2020-03-06T16:13:15        1.0     0.0        0.0  03-08-2020  \n7303  2020-03-05T23:33:03        1.0     0.0        0.0  03-08-2020  \n7304  2020-03-06T20:13:14        1.0     0.0        0.0  03-08-2020  \n7305  2020-03-03T15:33:02        1.0     0.0        0.0  03-08-2020  \n7306  2020-03-06T15:43:02        1.0     0.0        0.0  03-08-2020  \n7307  2020-02-29T02:03:10        0.0     0.0        0.0  03-08-2020  \n7308  2020-03-06T04:33:03        0.0     0.0        0.0  03-08-2020  \n7309  2020-02-24T23:33:02        0.0     0.0        0.0  03-08-2020  \n7310  2020-03-07T19:53:02        0.0     0.0        0.0  03-08-2020  \n7311  2020-02-24T23:33:02        0.0     0.0        0.0  03-08-2020  \n7312  2020-02-24T23:33:02        0.0     0.0        0.0  03-08-2020  \n\n[7313 rows x 7 columns]",
      "text/html": "<div>\n<style scoped>\n    .dataframe tbody tr th:only-of-type {\n        vertical-align: middle;\n    }\n\n    .dataframe tbody tr th {\n        vertical-align: top;\n    }\n\n    .dataframe thead th {\n        text-align: right;\n    }\n</style>\n<table border=\"1\" class=\"dataframe\">\n  <thead>\n    <tr style=\"text-align: right;\">\n      <th></th>\n      <th>State</th>\n      <th>Country</th>\n      <th>LastUpdateTimestamp</th>\n      <th>Confirmed</th>\n      <th>Deaths</th>\n      <th>Recovered</th>\n      <th>UpdatedDate</th>\n    </tr>\n  </thead>\n  <tbody>\n    <tr>\n      <th>0</th>\n      <td>Hubei</td>\n      <td>China</td>\n      <td>2020-02-26T14:13:10</td>\n      <td>65187.0</td>\n      <td>2615.0</td>\n      <td>20969.0</td>\n      <td>02-26-2020</td>\n    </tr>\n    <tr>\n      <th>1</th>\n      <td>Guangdong</td>\n      <td>China</td>\n      <td>2020-02-26T10:33:02</td>\n      <td>1347.0</td>\n      <td>7.0</td>\n      <td>851.0</td>\n      <td>02-26-2020</td>\n    </tr>\n    <tr>\n      <th>2</th>\n      <td>Henan</td>\n      <td>China</td>\n      <td>2020-02-26T10:33:02</td>\n      <td>1271.0</td>\n      <td>19.0</td>\n      <td>1033.0</td>\n      <td>02-26-2020</td>\n    </tr>\n    <tr>\n      <th>3</th>\n      <td>NaN</td>\n      <td>South Korea</td>\n      <td>2020-02-26T11:03:11</td>\n      <td>1261.0</td>\n      <td>12.0</td>\n      <td>22.0</td>\n      <td>02-26-2020</td>\n    </tr>\n    <tr>\n      <th>4</th>\n      <td>Zhejiang</td>\n      <td>China</td>\n      <td>2020-02-26T10:33:02</td>\n      <td>1205.0</td>\n      <td>1.0</td>\n      <td>867.0</td>\n      <td>02-26-2020</td>\n    </tr>\n    <tr>\n      <th>5</th>\n      <td>Hunan</td>\n      <td>China</td>\n      <td>2020-02-26T10:13:11</td>\n      <td>1016.0</td>\n      <td>4.0</td>\n      <td>783.0</td>\n      <td>02-26-2020</td>\n    </tr>\n    <tr>\n      <th>6</th>\n      <td>Anhui</td>\n      <td>China</td>\n      <td>2020-02-26T10:13:11</td>\n      <td>989.0</td>\n      <td>6.0</td>\n      <td>744.0</td>\n      <td>02-26-2020</td>\n    </tr>\n    <tr>\n      <th>7</th>\n      <td>Jiangxi</td>\n      <td>China</td>\n      <td>2020-02-26T01:13:04</td>\n      <td>934.0</td>\n      <td>1.0</td>\n      <td>719.0</td>\n      <td>02-26-2020</td>\n    </tr>\n    <tr>\n      <th>8</th>\n      <td>Shandong</td>\n      <td>China</td>\n      <td>2020-02-26T12:43:02</td>\n      <td>756.0</td>\n      <td>6.0</td>\n      <td>377.0</td>\n      <td>02-26-2020</td>\n    </tr>\n    <tr>\n      <th>9</th>\n      <td>Diamond Princess cruise ship</td>\n      <td>Others</td>\n      <td>2020-02-26T19:33:02</td>\n      <td>705.0</td>\n      <td>4.0</td>\n      <td>10.0</td>\n      <td>02-26-2020</td>\n    </tr>\n    <tr>\n      <th>10</th>\n      <td>Jiangsu</td>\n      <td>China</td>\n      <td>2020-02-26T10:13:11</td>\n      <td>631.0</td>\n      <td>0.0</td>\n      <td>478.0</td>\n      <td>02-26-2020</td>\n    </tr>\n    <tr>\n      <th>11</th>\n      <td>Chongqing</td>\n      <td>China</td>\n      <td>2020-02-26T23:43:02</td>\n      <td>576.0</td>\n      <td>6.0</td>\n      <td>384.0</td>\n      <td>02-26-2020</td>\n    </tr>\n    <tr>\n      <th>12</th>\n      <td>Sichuan</td>\n      <td>China</td>\n      <td>2020-02-26T10:13:11</td>\n      <td>531.0</td>\n      <td>3.0</td>\n      <td>307.0</td>\n      <td>02-26-2020</td>\n    </tr>\n    <tr>\n      <th>13</th>\n      <td>Heilongjiang</td>\n      <td>China</td>\n      <td>2020-02-26T10:33:02</td>\n      <td>480.0</td>\n      <td>12.0</td>\n      <td>249.0</td>\n      <td>02-26-2020</td>\n    </tr>\n    <tr>\n      <th>14</th>\n      <td>NaN</td>\n      <td>Italy</td>\n      <td>2020-02-26T23:43:03</td>\n      <td>453.0</td>\n      <td>12.0</td>\n      <td>3.0</td>\n      <td>02-26-2020</td>\n    </tr>\n    <tr>\n      <th>15</th>\n      <td>Beijing</td>\n      <td>China</td>\n      <td>2020-02-26T00:53:02</td>\n      <td>400.0</td>\n      <td>4.0</td>\n      <td>235.0</td>\n      <td>02-26-2020</td>\n    </tr>\n    <tr>\n      <th>16</th>\n      <td>Shanghai</td>\n      <td>China</td>\n      <td>2020-02-26T23:53:01</td>\n      <td>337.0</td>\n      <td>3.0</td>\n      <td>272.0</td>\n      <td>02-26-2020</td>\n    </tr>\n    <tr>\n      <th>17</th>\n      <td>Hebei</td>\n      <td>China</td>\n      <td>2020-02-26T10:33:02</td>\n      <td>312.0</td>\n      <td>6.0</td>\n      <td>261.0</td>\n      <td>02-26-2020</td>\n    </tr>\n    <tr>\n      <th>18</th>\n      <td>Fujian</td>\n      <td>China</td>\n      <td>2020-02-26T10:33:02</td>\n      <td>294.0</td>\n      <td>1.0</td>\n      <td>218.0</td>\n      <td>02-26-2020</td>\n    </tr>\n    <tr>\n      <th>19</th>\n      <td>Guangxi</td>\n      <td>China</td>\n      <td>2020-02-26T14:13:10</td>\n      <td>252.0</td>\n      <td>2.0</td>\n      <td>147.0</td>\n      <td>02-26-2020</td>\n    </tr>\n    <tr>\n      <th>20</th>\n      <td>Shaanxi</td>\n      <td>China</td>\n      <td>2020-02-26T14:13:10</td>\n      <td>245.0</td>\n      <td>1.0</td>\n      <td>192.0</td>\n      <td>02-26-2020</td>\n    </tr>\n    <tr>\n      <th>21</th>\n      <td>NaN</td>\n      <td>Japan</td>\n      <td>2020-02-26T23:43:03</td>\n      <td>189.0</td>\n      <td>2.0</td>\n      <td>22.0</td>\n      <td>02-26-2020</td>\n    </tr>\n    <tr>\n      <th>22</th>\n      <td>Yunnan</td>\n      <td>China</td>\n      <td>2020-02-26T05:13:16</td>\n      <td>174.0</td>\n      <td>2.0</td>\n      <td>144.0</td>\n      <td>02-26-2020</td>\n    </tr>\n    <tr>\n      <th>23</th>\n      <td>Hainan</td>\n      <td>China</td>\n      <td>2020-02-26T12:43:02</td>\n      <td>168.0</td>\n      <td>5.0</td>\n      <td>129.0</td>\n      <td>02-26-2020</td>\n    </tr>\n    <tr>\n      <th>24</th>\n      <td>Guizhou</td>\n      <td>China</td>\n      <td>2020-02-25T08:03:07</td>\n      <td>146.0</td>\n      <td>2.0</td>\n      <td>104.0</td>\n      <td>02-26-2020</td>\n    </tr>\n    <tr>\n      <th>25</th>\n      <td>NaN</td>\n      <td>Iran</td>\n      <td>2020-02-26T23:43:03</td>\n      <td>139.0</td>\n      <td>19.0</td>\n      <td>49.0</td>\n      <td>02-26-2020</td>\n    </tr>\n    <tr>\n      <th>26</th>\n      <td>Tianjin</td>\n      <td>China</td>\n      <td>2020-02-26T12:43:02</td>\n      <td>135.0</td>\n      <td>3.0</td>\n      <td>96.0</td>\n      <td>02-26-2020</td>\n    </tr>\n    <tr>\n      <th>27</th>\n      <td>Shanxi</td>\n      <td>China</td>\n      <td>2020-02-26T14:13:10</td>\n      <td>133.0</td>\n      <td>0.0</td>\n      <td>104.0</td>\n      <td>02-26-2020</td>\n    </tr>\n    <tr>\n      <th>28</th>\n      <td>Liaoning</td>\n      <td>China</td>\n      <td>2020-02-26T00:13:05</td>\n      <td>121.0</td>\n      <td>1.0</td>\n      <td>88.0</td>\n      <td>02-26-2020</td>\n    </tr>\n    <tr>\n      <th>29</th>\n      <td>Jilin</td>\n      <td>China</td>\n      <td>2020-02-26T14:13:10</td>\n      <td>93.0</td>\n      <td>1.0</td>\n      <td>65.0</td>\n      <td>02-26-2020</td>\n    </tr>\n    <tr>\n      <th>...</th>\n      <td>...</td>\n      <td>...</td>\n      <td>...</td>\n      <td>...</td>\n      <td>...</td>\n      <td>...</td>\n      <td>...</td>\n    </tr>\n    <tr>\n      <th>7283</th>\n      <td>Plymouth County, MA</td>\n      <td>United States</td>\n      <td>2020-03-07T03:53:03</td>\n      <td>1.0</td>\n      <td>0.0</td>\n      <td>0.0</td>\n      <td>03-08-2020</td>\n    </tr>\n    <tr>\n      <th>7284</th>\n      <td>Polk County, GA</td>\n      <td>United States</td>\n      <td>2020-03-08T04:13:22</td>\n      <td>1.0</td>\n      <td>0.0</td>\n      <td>0.0</td>\n      <td>03-08-2020</td>\n    </tr>\n    <tr>\n      <th>7285</th>\n      <td>Ramsey County, MN</td>\n      <td>United States</td>\n      <td>2020-03-06T23:23:03</td>\n      <td>1.0</td>\n      <td>0.0</td>\n      <td>0.0</td>\n      <td>03-08-2020</td>\n    </tr>\n    <tr>\n      <th>7286</th>\n      <td>Riverside County, CA</td>\n      <td>United States</td>\n      <td>2020-03-08T10:33:03</td>\n      <td>1.0</td>\n      <td>0.0</td>\n      <td>0.0</td>\n      <td>03-08-2020</td>\n    </tr>\n    <tr>\n      <th>7287</th>\n      <td>San Antonio, TX</td>\n      <td>United States</td>\n      <td>2020-02-13T18:53:02</td>\n      <td>1.0</td>\n      <td>0.0</td>\n      <td>0.0</td>\n      <td>03-08-2020</td>\n    </tr>\n    <tr>\n      <th>7288</th>\n      <td>Santa Rosa County, FL</td>\n      <td>United States</td>\n      <td>2020-03-08T15:33:04</td>\n      <td>1.0</td>\n      <td>1.0</td>\n      <td>0.0</td>\n      <td>03-08-2020</td>\n    </tr>\n    <tr>\n      <th>7289</th>\n      <td>Sarasota, FL</td>\n      <td>United States</td>\n      <td>2020-03-02T03:23:06</td>\n      <td>1.0</td>\n      <td>0.0</td>\n      <td>0.0</td>\n      <td>03-08-2020</td>\n    </tr>\n    <tr>\n      <th>7290</th>\n      <td>Shelby County, TN</td>\n      <td>United States</td>\n      <td>2020-03-08T16:13:36</td>\n      <td>1.0</td>\n      <td>0.0</td>\n      <td>0.0</td>\n      <td>03-08-2020</td>\n    </tr>\n    <tr>\n      <th>7291</th>\n      <td>Sonoma County, CA</td>\n      <td>United States</td>\n      <td>2020-03-02T20:53:02</td>\n      <td>1.0</td>\n      <td>0.0</td>\n      <td>0.0</td>\n      <td>03-08-2020</td>\n    </tr>\n    <tr>\n      <th>7292</th>\n      <td>Spokane County, WA</td>\n      <td>United States</td>\n      <td>2020-03-08T21:53:04</td>\n      <td>1.0</td>\n      <td>0.0</td>\n      <td>0.0</td>\n      <td>03-08-2020</td>\n    </tr>\n    <tr>\n      <th>7293</th>\n      <td>St. Louis County, MO</td>\n      <td>United States</td>\n      <td>2020-03-08T11:23:08</td>\n      <td>1.0</td>\n      <td>0.0</td>\n      <td>0.0</td>\n      <td>03-08-2020</td>\n    </tr>\n    <tr>\n      <th>7294</th>\n      <td>Suffolk County, NY</td>\n      <td>United States</td>\n      <td>2020-03-08T16:03:05</td>\n      <td>1.0</td>\n      <td>0.0</td>\n      <td>0.0</td>\n      <td>03-08-2020</td>\n    </tr>\n    <tr>\n      <th>7295</th>\n      <td>Tulsa County, OK</td>\n      <td>United States</td>\n      <td>2020-03-07T04:43:02</td>\n      <td>1.0</td>\n      <td>0.0</td>\n      <td>0.0</td>\n      <td>03-08-2020</td>\n    </tr>\n    <tr>\n      <th>7296</th>\n      <td>Ulster County, NY</td>\n      <td>United States</td>\n      <td>2020-03-08T16:23:07</td>\n      <td>1.0</td>\n      <td>0.0</td>\n      <td>0.0</td>\n      <td>03-08-2020</td>\n    </tr>\n    <tr>\n      <th>7297</th>\n      <td>Umatilla, OR</td>\n      <td>United States</td>\n      <td>2020-03-02T20:23:16</td>\n      <td>1.0</td>\n      <td>0.0</td>\n      <td>0.0</td>\n      <td>03-08-2020</td>\n    </tr>\n    <tr>\n      <th>7298</th>\n      <td>Unassigned Location, VT</td>\n      <td>United States</td>\n      <td>2020-03-08T06:23:05</td>\n      <td>1.0</td>\n      <td>0.0</td>\n      <td>0.0</td>\n      <td>03-08-2020</td>\n    </tr>\n    <tr>\n      <th>7299</th>\n      <td>Unknown Location, MA</td>\n      <td>United States</td>\n      <td>2020-03-08T21:23:03</td>\n      <td>1.0</td>\n      <td>0.0</td>\n      <td>0.0</td>\n      <td>03-08-2020</td>\n    </tr>\n    <tr>\n      <th>7300</th>\n      <td>Volusia County, FL</td>\n      <td>United States</td>\n      <td>2020-03-08T03:03:08</td>\n      <td>1.0</td>\n      <td>0.0</td>\n      <td>0.0</td>\n      <td>03-08-2020</td>\n    </tr>\n    <tr>\n      <th>7301</th>\n      <td>Wake County, NC</td>\n      <td>United States</td>\n      <td>2020-03-03T20:53:02</td>\n      <td>1.0</td>\n      <td>0.0</td>\n      <td>0.0</td>\n      <td>03-08-2020</td>\n    </tr>\n    <tr>\n      <th>7302</th>\n      <td>Wayne County, PA</td>\n      <td>United States</td>\n      <td>2020-03-06T16:13:15</td>\n      <td>1.0</td>\n      <td>0.0</td>\n      <td>0.0</td>\n      <td>03-08-2020</td>\n    </tr>\n    <tr>\n      <th>7303</th>\n      <td>Williamson County, TN</td>\n      <td>United States</td>\n      <td>2020-03-05T23:33:03</td>\n      <td>1.0</td>\n      <td>0.0</td>\n      <td>0.0</td>\n      <td>03-08-2020</td>\n    </tr>\n    <tr>\n      <th>7304</th>\n      <td>Yolo County, CA</td>\n      <td>United States</td>\n      <td>2020-03-06T20:13:14</td>\n      <td>1.0</td>\n      <td>0.0</td>\n      <td>0.0</td>\n      <td>03-08-2020</td>\n    </tr>\n    <tr>\n      <th>7305</th>\n      <td>NaN</td>\n      <td>Ukraine</td>\n      <td>2020-03-03T15:33:02</td>\n      <td>1.0</td>\n      <td>0.0</td>\n      <td>0.0</td>\n      <td>03-08-2020</td>\n    </tr>\n    <tr>\n      <th>7306</th>\n      <td>NaN</td>\n      <td>Vatican City</td>\n      <td>2020-03-06T15:43:02</td>\n      <td>1.0</td>\n      <td>0.0</td>\n      <td>0.0</td>\n      <td>03-08-2020</td>\n    </tr>\n    <tr>\n      <th>7307</th>\n      <td>From Diamond Princess</td>\n      <td>Australia</td>\n      <td>2020-02-29T02:03:10</td>\n      <td>0.0</td>\n      <td>0.0</td>\n      <td>0.0</td>\n      <td>03-08-2020</td>\n    </tr>\n    <tr>\n      <th>7308</th>\n      <td>Northern Territory</td>\n      <td>Australia</td>\n      <td>2020-03-06T04:33:03</td>\n      <td>0.0</td>\n      <td>0.0</td>\n      <td>0.0</td>\n      <td>03-08-2020</td>\n    </tr>\n    <tr>\n      <th>7309</th>\n      <td>Lackland, TX (From Diamond Princess)</td>\n      <td>United States</td>\n      <td>2020-02-24T23:33:02</td>\n      <td>0.0</td>\n      <td>0.0</td>\n      <td>0.0</td>\n      <td>03-08-2020</td>\n    </tr>\n    <tr>\n      <th>7310</th>\n      <td>Montgomery County, TX</td>\n      <td>United States</td>\n      <td>2020-03-07T19:53:02</td>\n      <td>0.0</td>\n      <td>0.0</td>\n      <td>0.0</td>\n      <td>03-08-2020</td>\n    </tr>\n    <tr>\n      <th>7311</th>\n      <td>Omaha, NE (From Diamond Princess)</td>\n      <td>United States</td>\n      <td>2020-02-24T23:33:02</td>\n      <td>0.0</td>\n      <td>0.0</td>\n      <td>0.0</td>\n      <td>03-08-2020</td>\n    </tr>\n    <tr>\n      <th>7312</th>\n      <td>Travis, CA (From Diamond Princess)</td>\n      <td>United States</td>\n      <td>2020-02-24T23:33:02</td>\n      <td>0.0</td>\n      <td>0.0</td>\n      <td>0.0</td>\n      <td>03-08-2020</td>\n    </tr>\n  </tbody>\n</table>\n<p>7313 rows × 7 columns</p>\n</div>"
     },
     "metadata": {},
     "execution_count": 77
    }
   ],
   "source": [
    "foo"
   ]
  }
 ],
 "metadata": {
  "kernelspec": {
   "display_name": "Python 3",
   "language": "python",
   "name": "python3"
  },
  "language_info": {
   "codemirror_mode": {
    "name": "ipython",
    "version": 3
   },
   "file_extension": ".py",
   "mimetype": "text/x-python",
   "name": "python",
   "nbconvert_exporter": "python",
   "pygments_lexer": "ipython3",
   "version": "3.7.5-final"
  }
 },
 "nbformat": 4,
 "nbformat_minor": 2
}